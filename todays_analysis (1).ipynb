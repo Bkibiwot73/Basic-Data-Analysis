{
 "cells": [
  {
   "cell_type": "code",
   "execution_count": 1,
   "id": "8d620c9e-b2ee-4e1d-a847-d617f81ed935",
   "metadata": {},
   "outputs": [],
   "source": [
    "import pandas as pd\n",
    "data = pd.read_csv('todays_data.csv')"
   ]
  },
  {
   "cell_type": "code",
   "execution_count": 2,
   "id": "717be64e-99b4-43ac-a085-ee7baf47409d",
   "metadata": {},
   "outputs": [
    {
     "name": "stdout",
     "output_type": "stream",
     "text": [
      "    First Name  Country      Gender Academic Level\n",
      "0    abdikhafar   Kenya        male  UnderGraduate\n",
      "1           plp   Kenya  non_binary            NaN\n",
      "2      milicent   Kenya      female  UnderGraduate\n",
      "3      jeremiah   Kenya        male  UnderGraduate\n",
      "4          emma   Kenya      female        Diploma\n",
      "..          ...     ...         ...            ...\n",
      "348      curtis   Kenya        male      secondary\n",
      "349      lameck   Kenya        male     HighSchool\n",
      "350    anderson   Kenya        male            NaN\n",
      "351      hedmon   Kenya        male  UnderGraduate\n",
      "352     bernard   Kenya        male        Diploma\n",
      "\n",
      "[353 rows x 4 columns]\n"
     ]
    }
   ],
   "source": [
    "print(data)"
   ]
  },
  {
   "cell_type": "code",
   "execution_count": 3,
   "id": "b2da858b-b804-4735-8243-e912c162b166",
   "metadata": {},
   "outputs": [
    {
     "data": {
      "text/html": [
       "<div>\n",
       "<style scoped>\n",
       "    .dataframe tbody tr th:only-of-type {\n",
       "        vertical-align: middle;\n",
       "    }\n",
       "\n",
       "    .dataframe tbody tr th {\n",
       "        vertical-align: top;\n",
       "    }\n",
       "\n",
       "    .dataframe thead th {\n",
       "        text-align: right;\n",
       "    }\n",
       "</style>\n",
       "<table border=\"1\" class=\"dataframe\">\n",
       "  <thead>\n",
       "    <tr style=\"text-align: right;\">\n",
       "      <th></th>\n",
       "      <th>First Name</th>\n",
       "      <th>Country</th>\n",
       "      <th>Gender</th>\n",
       "      <th>Academic Level</th>\n",
       "    </tr>\n",
       "  </thead>\n",
       "  <tbody>\n",
       "    <tr>\n",
       "      <th>count</th>\n",
       "      <td>353</td>\n",
       "      <td>353</td>\n",
       "      <td>353</td>\n",
       "      <td>350</td>\n",
       "    </tr>\n",
       "    <tr>\n",
       "      <th>unique</th>\n",
       "      <td>260</td>\n",
       "      <td>1</td>\n",
       "      <td>3</td>\n",
       "      <td>8</td>\n",
       "    </tr>\n",
       "    <tr>\n",
       "      <th>top</th>\n",
       "      <td>brian</td>\n",
       "      <td>Kenya</td>\n",
       "      <td>male</td>\n",
       "      <td>UnderGraduate</td>\n",
       "    </tr>\n",
       "    <tr>\n",
       "      <th>freq</th>\n",
       "      <td>7</td>\n",
       "      <td>353</td>\n",
       "      <td>259</td>\n",
       "      <td>204</td>\n",
       "    </tr>\n",
       "  </tbody>\n",
       "</table>\n",
       "</div>"
      ],
      "text/plain": [
       "       First Name  Country Gender Academic Level\n",
       "count          353     353    353            350\n",
       "unique         260       1      3              8\n",
       "top          brian   Kenya   male  UnderGraduate\n",
       "freq             7     353    259            204"
      ]
     },
     "execution_count": 3,
     "metadata": {},
     "output_type": "execute_result"
    }
   ],
   "source": [
    "data.describe()"
   ]
  },
  {
   "cell_type": "code",
   "execution_count": 4,
   "id": "acbbdf26-372b-41aa-958a-dfd17a57e4b4",
   "metadata": {},
   "outputs": [
    {
     "data": {
      "text/plain": [
       "Gender\n",
       "male          259\n",
       "female         93\n",
       "non_binary      1\n",
       "Name: count, dtype: int64"
      ]
     },
     "execution_count": 4,
     "metadata": {},
     "output_type": "execute_result"
    }
   ],
   "source": [
    "data['Gender'].value_counts()"
   ]
  },
  {
   "cell_type": "code",
   "execution_count": 5,
   "id": "2f9ecd8f-64d8-474c-bc7f-4b204d03af80",
   "metadata": {},
   "outputs": [
    {
     "data": {
      "text/plain": [
       "Academic Level\n",
       "UnderGraduate    204\n",
       "HighSchool        52\n",
       "undergraduate     34\n",
       "Diploma           33\n",
       "secondary         15\n",
       "diploma            7\n",
       "PostGraduate       4\n",
       "other              1\n",
       "Name: count, dtype: int64"
      ]
     },
     "execution_count": 5,
     "metadata": {},
     "output_type": "execute_result"
    }
   ],
   "source": [
    "data['Academic Level'].value_counts()"
   ]
  },
  {
   "cell_type": "code",
   "execution_count": 7,
   "id": "31a046bd-a0a7-4c41-abd6-a88bbcc41730",
   "metadata": {},
   "outputs": [
    {
     "data": {
      "text/plain": [
       "Academic Level\n",
       "UnderGraduate    204\n",
       "HighSchool        52\n",
       "undergraduate     34\n",
       "Diploma           33\n",
       "secondary         15\n",
       "diploma            7\n",
       "PostGraduate       4\n",
       "other              1\n",
       "Name: count, dtype: int64"
      ]
     },
     "execution_count": 7,
     "metadata": {},
     "output_type": "execute_result"
    }
   ],
   "source": [
    "data['Academic Level'].value_counts()"
   ]
  },
  {
   "cell_type": "code",
   "execution_count": 9,
   "id": "4f78bc60-b420-411b-893b-2d5849b46b08",
   "metadata": {},
   "outputs": [
    {
     "data": {
      "text/plain": [
       "Academic Level\n",
       "UnderGraduate    204\n",
       "HighSchool        52\n",
       "undergraduate     34\n",
       "Diploma           33\n",
       "secondary         15\n",
       "diploma            7\n",
       "PostGraduate       4\n",
       "other              1\n",
       "Name: count, dtype: int64"
      ]
     },
     "execution_count": 9,
     "metadata": {},
     "output_type": "execute_result"
    }
   ],
   "source": [
    "data['Academic Level'].value_counts()"
   ]
  },
  {
   "cell_type": "code",
   "execution_count": null,
   "id": "be28c71f-2a35-4503-a335-b029c3b526e5",
   "metadata": {},
   "outputs": [],
   "source": [
    "graphs = data.value_counts('Gender')\n",
    "graphs"
   ]
  }
 ],
 "metadata": {
  "kernelspec": {
   "display_name": "anaconda-panel-2023.05-py310",
   "language": "python",
   "name": "conda-env-anaconda-panel-2023.05-py310-py"
  },
  "language_info": {
   "codemirror_mode": {
    "name": "ipython",
    "version": 3
   },
   "file_extension": ".py",
   "mimetype": "text/x-python",
   "name": "python",
   "nbconvert_exporter": "python",
   "pygments_lexer": "ipython3",
   "version": "3.11.5"
  }
 },
 "nbformat": 4,
 "nbformat_minor": 5
}
